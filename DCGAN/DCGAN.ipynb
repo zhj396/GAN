{
  "cells": [
    {
      "cell_type": "markdown",
      "metadata": {
        "id": "view-in-github",
        "colab_type": "text"
      },
      "source": [
        "<a href=\"https://colab.research.google.com/github/zhj396/GAN/blob/main/DCGAN/DCGAN.ipynb\" target=\"_parent\"><img src=\"https://colab.research.google.com/assets/colab-badge.svg\" alt=\"Open In Colab\"/></a>"
      ]
    },
    {
      "cell_type": "code",
      "execution_count": 1,
      "id": "a9392a4b-6bf7-4a87-9e46-f6a7d67c29f7",
      "metadata": {
        "id": "a9392a4b-6bf7-4a87-9e46-f6a7d67c29f7"
      },
      "outputs": [],
      "source": [
        "import tensorflow as tf\n",
        "from tensorflow.keras import layers\n",
        "import numpy as np\n",
        "import matplotlib.pyplot as plt\n",
        "import os\n",
        "%matplotlib inline"
      ]
    },
    {
      "cell_type": "code",
      "execution_count": 2,
      "id": "d442c054-1814-4705-ba9d-3d4b8f8ad9a7",
      "metadata": {
        "id": "d442c054-1814-4705-ba9d-3d4b8f8ad9a7"
      },
      "outputs": [],
      "source": [
        "# 超参数\n",
        "BUFFER_SIZE = 60000\n",
        "BATCH_SIZE = 256\n",
        "EPOCHS = 50\n",
        "NOISE_DIM = 100\n",
        "NUM_EXAMPLES_TO_GENERATE = 16"
      ]
    },
    {
      "cell_type": "code",
      "execution_count": 3,
      "id": "3f9e0128-3800-4da5-9eb2-bcfbf4f18d44",
      "metadata": {
        "colab": {
          "base_uri": "https://localhost:8080/"
        },
        "id": "3f9e0128-3800-4da5-9eb2-bcfbf4f18d44",
        "outputId": "e6ae5a18-f1b5-4adc-b921-40c670872a73"
      },
      "outputs": [
        {
          "output_type": "stream",
          "name": "stdout",
          "text": [
            "Downloading data from https://storage.googleapis.com/tensorflow/tf-keras-datasets/mnist.npz\n",
            "\u001b[1m11490434/11490434\u001b[0m \u001b[32m━━━━━━━━━━━━━━━━━━━━\u001b[0m\u001b[37m\u001b[0m \u001b[1m0s\u001b[0m 0us/step\n"
          ]
        }
      ],
      "source": [
        "# 载入并预处理 MNIST 数据\n",
        "(train_images, _), (_, _) = tf.keras.datasets.mnist.load_data()\n",
        "train_images = train_images.reshape(train_images.shape[0], 28, 28, 1).astype('float32')\n",
        "train_images = (train_images - 127.5) / 127.5  # Normalize to [-1, 1]\n",
        "\n",
        "train_dataset = tf.data.Dataset.from_tensor_slices(train_images).shuffle(BUFFER_SIZE).batch(BATCH_SIZE)"
      ]
    },
    {
      "cell_type": "code",
      "execution_count": 4,
      "id": "e38c811d-2dc5-430e-a2b3-a5c71dc4ab1f",
      "metadata": {
        "id": "e38c811d-2dc5-430e-a2b3-a5c71dc4ab1f"
      },
      "outputs": [],
      "source": [
        "# 生成器模型\n",
        "def make_generator_model():\n",
        "    model = tf.keras.Sequential([\n",
        "        layers.Dense(7*7*256, use_bias=False, input_shape=(NOISE_DIM,)),\n",
        "        layers.BatchNormalization(),\n",
        "        layers.LeakyReLU(),\n",
        "\n",
        "        layers.Reshape((7, 7, 256)),\n",
        "        layers.Conv2DTranspose(128, (5, 5), strides=(1, 1), padding='same', use_bias=False),\n",
        "        layers.BatchNormalization(),\n",
        "        layers.LeakyReLU(),\n",
        "\n",
        "        layers.Conv2DTranspose(64, (5, 5), strides=(2, 2), padding='same', use_bias=False),\n",
        "        layers.BatchNormalization(),\n",
        "        layers.LeakyReLU(),\n",
        "\n",
        "        layers.Conv2DTranspose(1, (5, 5), strides=(2, 2), padding='same',\n",
        "                               use_bias=False, activation='tanh')\n",
        "    ])\n",
        "    return model"
      ]
    },
    {
      "cell_type": "code",
      "execution_count": 5,
      "id": "b0a87a58-f44e-4f2b-b127-3f48711267fd",
      "metadata": {
        "id": "b0a87a58-f44e-4f2b-b127-3f48711267fd"
      },
      "outputs": [],
      "source": [
        "# 判别器模型\n",
        "def make_discriminator_model():\n",
        "    model = tf.keras.Sequential([\n",
        "        layers.Conv2D(64, (5, 5), strides=(2, 2), padding='same',\n",
        "                      input_shape=[28, 28, 1]),\n",
        "        layers.LeakyReLU(),\n",
        "        layers.Dropout(0.3),\n",
        "\n",
        "        layers.Conv2D(128, (5, 5), strides=(2, 2), padding='same'),\n",
        "        layers.LeakyReLU(),\n",
        "        layers.Dropout(0.3),\n",
        "\n",
        "        layers.Flatten(),\n",
        "        layers.Dense(1)\n",
        "    ])\n",
        "    return model"
      ]
    },
    {
      "cell_type": "code",
      "execution_count": null,
      "id": "6c47a7df-fef6-4895-95c2-b0bfdb54fbee",
      "metadata": {
        "id": "6c47a7df-fef6-4895-95c2-b0bfdb54fbee"
      },
      "outputs": [],
      "source": [
        "# 损失函数和优化器\n",
        "cross_entropy = tf.keras.losses.BinaryCrossentropy(from_logits=True)\n",
        "generator = make_generator_model()\n",
        "discriminator = make_discriminator_model()\n",
        "\n",
        "generator.summary()\n",
        "discriminator.summary()\n",
        "\n",
        "generator_optimizer = tf.keras.optimizers.Adam(1e-4)\n",
        "discriminator_optimizer = tf.keras.optimizers.Adam(1e-4)"
      ]
    },
    {
      "cell_type": "code",
      "execution_count": null,
      "id": "9b9993f3-2af7-4a82-8f79-6e0138d813da",
      "metadata": {
        "id": "9b9993f3-2af7-4a82-8f79-6e0138d813da"
      },
      "outputs": [],
      "source": [
        "# 生成固定种子的噪声用于图像可视化\n",
        "seed = tf.random.normal([NUM_EXAMPLES_TO_GENERATE, NOISE_DIM])"
      ]
    },
    {
      "cell_type": "code",
      "execution_count": null,
      "id": "81035cbb-0b96-4ad6-ba12-4700c7e75053",
      "metadata": {
        "id": "81035cbb-0b96-4ad6-ba12-4700c7e75053"
      },
      "outputs": [],
      "source": [
        "# 判别器损失\n",
        "def discriminator_loss(real_output, fake_output):\n",
        "    real_loss = cross_entropy(tf.ones_like(real_output), real_output)\n",
        "    fake_loss = cross_entropy(tf.zeros_like(fake_output), fake_output)\n",
        "    return real_loss + fake_loss"
      ]
    },
    {
      "cell_type": "code",
      "execution_count": null,
      "id": "14724658-23a8-455c-aae6-137eed9be832",
      "metadata": {
        "id": "14724658-23a8-455c-aae6-137eed9be832"
      },
      "outputs": [],
      "source": [
        "# 生成器损失\n",
        "def generator_loss(fake_output):\n",
        "    return cross_entropy(tf.ones_like(fake_output), fake_output)"
      ]
    },
    {
      "cell_type": "code",
      "execution_count": null,
      "id": "a09d278b-c685-4146-8607-ba881ff983db",
      "metadata": {
        "id": "a09d278b-c685-4146-8607-ba881ff983db"
      },
      "outputs": [],
      "source": [
        "# 训练步骤\n",
        "@tf.function\n",
        "def train_step(images):\n",
        "    noise = tf.random.normal([BATCH_SIZE, NOISE_DIM])\n",
        "\n",
        "    with tf.GradientTape() as gen_tape, tf.GradientTape() as disc_tape:\n",
        "        generated_images = generator(noise, training=True)\n",
        "\n",
        "        real_output = discriminator(images, training=True)\n",
        "        fake_output = discriminator(generated_images, training=True)\n",
        "\n",
        "        gen_loss = generator_loss(fake_output)\n",
        "        disc_loss = discriminator_loss(real_output, fake_output)\n",
        "\n",
        "    gradients_of_generator = gen_tape.gradient(gen_loss, generator.trainable_variables)\n",
        "    gradients_of_discriminator = disc_tape.gradient(disc_loss, discriminator.trainable_variables)\n",
        "\n",
        "    generator_optimizer.apply_gradients(zip(gradients_of_generator, generator.trainable_variables))\n",
        "    discriminator_optimizer.apply_gradients(zip(gradients_of_discriminator, discriminator.trainable_variables))"
      ]
    },
    {
      "cell_type": "code",
      "execution_count": null,
      "id": "ea6ef30d-ccdc-4d40-ae40-253d63702c47",
      "metadata": {
        "id": "ea6ef30d-ccdc-4d40-ae40-253d63702c47"
      },
      "outputs": [],
      "source": [
        "# 生成图像函数\n",
        "def generate_and_save_images(model, epoch, test_input):\n",
        "    predictions = model(test_input, training=False)\n",
        "    fig = plt.figure(figsize=(4, 4))\n",
        "\n",
        "    for i in range(predictions.shape[0]):\n",
        "        plt.subplot(4, 4, i+1)\n",
        "        plt.imshow(predictions[i, :, :, 0] * 127.5 + 127.5, cmap='gray')\n",
        "        plt.axis('off')\n",
        "\n",
        "    if not os.path.exists('images'):\n",
        "        os.mkdir('images')\n",
        "    plt.savefig('images/image_at_epoch_{:04d}.png'.format(epoch))\n",
        "\n",
        "    plt.show()\n",
        "    plt.close()"
      ]
    },
    {
      "cell_type": "code",
      "execution_count": null,
      "id": "42ccc1bd-f2c4-4aed-9649-3c5855ebbf28",
      "metadata": {
        "id": "42ccc1bd-f2c4-4aed-9649-3c5855ebbf28"
      },
      "outputs": [],
      "source": [
        "# 训练主循环\n",
        "def train(dataset, epochs):\n",
        "    for epoch in range(epochs):\n",
        "        for image_batch in dataset:\n",
        "            train_step(image_batch)\n",
        "\n",
        "        # 每个 epoch 保存一次图像\n",
        "        generate_and_save_images(generator, epoch + 1, seed)\n",
        "        print(f'Epoch {epoch + 1} completed')\n",
        "\n",
        "    generate_and_save_images(generator, epochs, seed)"
      ]
    },
    {
      "cell_type": "code",
      "execution_count": null,
      "id": "b2095667-dfd6-4568-81ee-ddee97f294eb",
      "metadata": {
        "id": "b2095667-dfd6-4568-81ee-ddee97f294eb"
      },
      "outputs": [],
      "source": [
        "# 启动训练\n",
        "train(train_dataset, EPOCHS)"
      ]
    },
    {
      "cell_type": "code",
      "execution_count": null,
      "id": "f6cb229c-0c9a-4b15-998a-e39cda711c37",
      "metadata": {
        "id": "f6cb229c-0c9a-4b15-998a-e39cda711c37"
      },
      "outputs": [],
      "source": []
    }
  ],
  "metadata": {
    "kernelspec": {
      "display_name": "Python 3 (ipykernel)",
      "language": "python",
      "name": "python3"
    },
    "language_info": {
      "codemirror_mode": {
        "name": "ipython",
        "version": 3
      },
      "file_extension": ".py",
      "mimetype": "text/x-python",
      "name": "python",
      "nbconvert_exporter": "python",
      "pygments_lexer": "ipython3",
      "version": "3.8.10"
    },
    "colab": {
      "provenance": [],
      "include_colab_link": true
    }
  },
  "nbformat": 4,
  "nbformat_minor": 5
}